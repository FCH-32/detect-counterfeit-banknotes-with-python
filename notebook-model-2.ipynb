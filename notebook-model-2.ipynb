{
 "cells": [
  {
   "cell_type": "code",
   "execution_count": 1,
   "id": "05670745",
   "metadata": {},
   "outputs": [],
   "source": [
    "#Importation des librairies\n",
    "\n",
    "import pandas as pd\n",
    "import numpy as np\n",
    "\n",
    "\n",
    "import matplotlib.pyplot as plt\n",
    "from matplotlib.collections import LineCollection\n",
    "\n",
    "import seaborn as sns\n",
    "sns.set()\n",
    "\n",
    "import statsmodels.api as sm\n",
    "import statsmodels.formula.api as smf\n",
    "from scipy.stats import t, shapiro\n",
    "from statsmodels.stats.outliers_influence import variance_inflation_factor\n",
    "import statsmodels\n",
    "\n",
    "\n",
    "from sklearn.cluster import KMeans\n",
    "from sklearn.linear_model import LogisticRegression\n",
    "from sklearn.linear_model import LinearRegression\n",
    "from sklearn.svm import SVR\n",
    "\n",
    "# Sklearn processing\n",
    "from sklearn.model_selection import train_test_split, train_test_split , cross_val_score\n",
    "from sklearn.metrics import mean_absolute_error\n",
    "from sklearn.decomposition import PCA\n",
    "from sklearn.preprocessing import StandardScaler\n",
    "from sklearn.metrics import classification_report, confusion_matrix, accuracy_score\n",
    "\n",
    "import pickle\n",
    "import warnings\n",
    "warnings.simplefilter(\"ignore\")"
   ]
  },
  {
   "cell_type": "code",
   "execution_count": 2,
   "id": "0bea9782",
   "metadata": {},
   "outputs": [],
   "source": [
    "#Upload de notre df_final\n",
    "df_final= pd.read_csv('df_final.csv')"
   ]
  },
  {
   "cell_type": "code",
   "execution_count": 3,
   "id": "bb35c7ce",
   "metadata": {},
   "outputs": [
    {
     "data": {
      "text/plain": [
       "(1500, 7)"
      ]
     },
     "execution_count": 3,
     "metadata": {},
     "output_type": "execute_result"
    }
   ],
   "source": [
    "#Structure du df_final\n",
    "df_final.shape"
   ]
  },
  {
   "cell_type": "code",
   "execution_count": 4,
   "id": "5ba128dd",
   "metadata": {},
   "outputs": [
    {
     "data": {
      "text/html": [
       "<div>\n",
       "<style scoped>\n",
       "    .dataframe tbody tr th:only-of-type {\n",
       "        vertical-align: middle;\n",
       "    }\n",
       "\n",
       "    .dataframe tbody tr th {\n",
       "        vertical-align: top;\n",
       "    }\n",
       "\n",
       "    .dataframe thead th {\n",
       "        text-align: right;\n",
       "    }\n",
       "</style>\n",
       "<table border=\"1\" class=\"dataframe\">\n",
       "  <thead>\n",
       "    <tr style=\"text-align: right;\">\n",
       "      <th></th>\n",
       "      <th>is_genuine</th>\n",
       "      <th>diagonal</th>\n",
       "      <th>height_left</th>\n",
       "      <th>height_right</th>\n",
       "      <th>margin_low</th>\n",
       "      <th>margin_up</th>\n",
       "      <th>length</th>\n",
       "    </tr>\n",
       "  </thead>\n",
       "  <tbody>\n",
       "    <tr>\n",
       "      <th>0</th>\n",
       "      <td>1</td>\n",
       "      <td>171.81</td>\n",
       "      <td>104.86</td>\n",
       "      <td>104.95</td>\n",
       "      <td>4.52</td>\n",
       "      <td>2.89</td>\n",
       "      <td>112.83</td>\n",
       "    </tr>\n",
       "    <tr>\n",
       "      <th>1</th>\n",
       "      <td>1</td>\n",
       "      <td>171.46</td>\n",
       "      <td>103.36</td>\n",
       "      <td>103.66</td>\n",
       "      <td>3.77</td>\n",
       "      <td>2.99</td>\n",
       "      <td>113.09</td>\n",
       "    </tr>\n",
       "    <tr>\n",
       "      <th>2</th>\n",
       "      <td>1</td>\n",
       "      <td>172.69</td>\n",
       "      <td>104.48</td>\n",
       "      <td>103.50</td>\n",
       "      <td>4.40</td>\n",
       "      <td>2.94</td>\n",
       "      <td>113.16</td>\n",
       "    </tr>\n",
       "    <tr>\n",
       "      <th>3</th>\n",
       "      <td>1</td>\n",
       "      <td>171.36</td>\n",
       "      <td>103.91</td>\n",
       "      <td>103.94</td>\n",
       "      <td>3.62</td>\n",
       "      <td>3.01</td>\n",
       "      <td>113.51</td>\n",
       "    </tr>\n",
       "    <tr>\n",
       "      <th>4</th>\n",
       "      <td>1</td>\n",
       "      <td>171.73</td>\n",
       "      <td>104.28</td>\n",
       "      <td>103.46</td>\n",
       "      <td>4.04</td>\n",
       "      <td>3.48</td>\n",
       "      <td>112.54</td>\n",
       "    </tr>\n",
       "  </tbody>\n",
       "</table>\n",
       "</div>"
      ],
      "text/plain": [
       "   is_genuine  diagonal  height_left  height_right  margin_low  margin_up  \\\n",
       "0           1    171.81       104.86        104.95        4.52       2.89   \n",
       "1           1    171.46       103.36        103.66        3.77       2.99   \n",
       "2           1    172.69       104.48        103.50        4.40       2.94   \n",
       "3           1    171.36       103.91        103.94        3.62       3.01   \n",
       "4           1    171.73       104.28        103.46        4.04       3.48   \n",
       "\n",
       "   length  \n",
       "0  112.83  \n",
       "1  113.09  \n",
       "2  113.16  \n",
       "3  113.51  \n",
       "4  112.54  "
      ]
     },
     "execution_count": 4,
     "metadata": {},
     "output_type": "execute_result"
    }
   ],
   "source": [
    "#Visualisation du df_final\n",
    "df_final.head()"
   ]
  },
  {
   "cell_type": "markdown",
   "id": "3a343881",
   "metadata": {},
   "source": [
    "# Séparation des données et standardisation des données \n",
    "\n",
    "Il est recommandé de normaliser ou standardiser les données avant de diviser l'ensemble de données en jeu d'entraînement et de test pour que toutes les variables soient à la même échelle et ainsi éviter les biais."
   ]
  },
  {
   "cell_type": "code",
   "execution_count": 5,
   "id": "c6307e9c",
   "metadata": {},
   "outputs": [],
   "source": [
    "#On stocke les variables \n",
    "X = df_final[['diagonal', 'height_left', 'height_right', 'margin_low', 'margin_up', 'length']]\n",
    "y = df_final['is_genuine']\n"
   ]
  },
  {
   "cell_type": "code",
   "execution_count": 6,
   "id": "762d4353",
   "metadata": {},
   "outputs": [],
   "source": [
    "#Séparation des données en training et test datasets\n",
    "\n",
    "X_train, X_test, y_train, y_test = train_test_split(\n",
    "    X, \n",
    "    y, \n",
    "    test_size=0.20,\n",
    "    random_state=4)\n",
    "\n",
    "#Initialisation du scaler\n",
    "scaler = StandardScaler()\n",
    "\n",
    "# On sauvegarde le modèle de scaler par soucis de best practices pour que toutes nos données soient scalées de la même manière\n",
    "with open('scaler.pkl', 'wb') as f:\n",
    "    pickle.dump(scaler, f)\n",
    "    \n",
    "\n",
    "X_train_std = pd.DataFrame(\n",
    "    scaler.fit_transform(X_train),\n",
    "    columns = X_train.columns\n",
    ")\n",
    "\n",
    "X_test_std = pd.DataFrame(\n",
    "    scaler.transform(X_test),\n",
    "    columns = X_test.columns)\n",
    "\n"
   ]
  },
  {
   "cell_type": "markdown",
   "id": "33595e29",
   "metadata": {},
   "source": [
    "# Modèle de régression logistique \n",
    "\n",
    "- La régression logistique explique une variable binaire qualitative. \n",
    "- L'utilisation de ce modèle est pertinente pour prédire les vrais et faux billets"
   ]
  },
  {
   "cell_type": "code",
   "execution_count": 7,
   "id": "0f657513",
   "metadata": {},
   "outputs": [
    {
     "data": {
      "text/plain": [
       "LogisticRegression(random_state=4)"
      ]
     },
     "execution_count": 7,
     "metadata": {},
     "output_type": "execute_result"
    }
   ],
   "source": [
    "# Modèle de regression logistique \n",
    "reg_log = LogisticRegression(solver='lbfgs', random_state=4, multi_class='auto')\n",
    "reg_log.fit(X_train_std, y_train.values.ravel())"
   ]
  },
  {
   "cell_type": "code",
   "execution_count": 8,
   "id": "335e6c10",
   "metadata": {},
   "outputs": [
    {
     "name": "stdout",
     "output_type": "stream",
     "text": [
      "              Pred.Negative  Pred.Positive\n",
      "Act.Negative            103              2\n",
      "Act.Positive              1            194\n",
      "\n",
      " Accuracy = 99.0%\n"
     ]
    }
   ],
   "source": [
    "#Matrice de confusion\n",
    "from sklearn.metrics import confusion_matrix\n",
    "\n",
    "y_pred = np.array(reg_log.predict(X_test_std))\n",
    "conf_mat = pd.DataFrame(confusion_matrix(y_test, y_pred),\n",
    "                        columns=[\"Pred.Negative\", \"Pred.Positive\"],\n",
    "                        index=['Act.Negative', \"Act.Positive\"])\n",
    "tn, fp, fn, tp = confusion_matrix(y_test, y_pred).ravel()\n",
    "accuracy = round((tn+tp)/(tn+fp+fn+tp), 4)\n",
    "print(conf_mat)\n",
    "print(f'\\n Accuracy = {round(100*accuracy, 2)}%')"
   ]
  },
  {
   "cell_type": "markdown",
   "id": "b6fc2cf7",
   "metadata": {},
   "source": [
    "### Visualisation de la performance du modèle de regression logistique avec la courbe ROC\n",
    "\n",
    "La courbe ROC permet de visualiser la performance d'un modèle de classification binaire en fonction du seuil de classification.\n",
    "\n"
   ]
  },
  {
   "cell_type": "code",
   "execution_count": 9,
   "id": "184ee406",
   "metadata": {},
   "outputs": [
    {
     "data": {
      "image/png": "[encoded data removed]",
      "text/plain": [
       "<Figure size 432x288 with 1 Axes>"
      ]
     },
     "metadata": {},
     "output_type": "display_data"
    }
   ],
   "source": [
    "from sklearn.metrics import roc_curve, roc_auc_score\n",
    "\n",
    "# Calcul de la courbe ROC et l'aire sous la courbe (AUC)\n",
    "fpr, tpr, thresholds = roc_curve(y_test, y_pred)\n",
    "auc = roc_auc_score(y_test, y_pred)\n",
    "\n",
    "# Affichage de la courbe ROC\n",
    "plt.plot(fpr, tpr, label='ROC curve (area = %0.2f)' % auc)\n",
    "plt.plot([0, 1], [0, 1], 'k--')\n",
    "plt.xlim([0.0, 1.0])\n",
    "plt.ylim([0.0, 1.05])\n",
    "plt.xlabel('False Positive Rate')\n",
    "plt.ylabel('True Positive Rate')\n",
    "plt.title('Receiver Operating Characteristic')\n",
    "plt.legend(loc=\"lower right\")\n",
    "plt.show()"
   ]
  },
  {
   "cell_type": "code",
   "execution_count": 10,
   "id": "0dee1ce3",
   "metadata": {},
   "outputs": [
    {
     "name": "stdout",
     "output_type": "stream",
     "text": [
      "L'AUC a un score de 0.988\n"
     ]
    }
   ],
   "source": [
    "print(\"L'AUC a un score de\", round(auc,3))"
   ]
  },
  {
   "cell_type": "markdown",
   "id": "fee1cc9c",
   "metadata": {},
   "source": [
    "- L'AUC a un score de 0.988 et donc très proche de 1\n",
    "- Cela suggère que le modèle a une très bonne capacité à distinguer entre les deux classes du problème de classification.\n",
    "- Il est capable de classer correctement la grande majorité des échantillons vrais et faux.\n",
    "- Il y a une forte séparabilité entre les classes et une performance de prédiction élevée"
   ]
  },
  {
   "cell_type": "markdown",
   "id": "7ede1ede",
   "metadata": {},
   "source": [
    "### Matrice de confusion - regression logistique"
   ]
  },
  {
   "cell_type": "code",
   "execution_count": 11,
   "id": "7ee81055",
   "metadata": {},
   "outputs": [
    {
     "name": "stdout",
     "output_type": "stream",
     "text": [
      "[[103   2]\n",
      " [  1 194]]\n"
     ]
    }
   ],
   "source": [
    "from sklearn.metrics import confusion_matrix\n",
    "\n",
    "y_pred = reg_log.predict(X_test_std)\n",
    "confusion_matrix_reg_log = confusion_matrix(y_test, reg_log.predict(X_test_std))\n",
    "print(confusion_matrix_reg_log) "
   ]
  },
  {
   "cell_type": "code",
   "execution_count": 12,
   "id": "602815fb",
   "metadata": {},
   "outputs": [
    {
     "data": {
      "image/png": "[encoded data removed]",
      "text/plain": [
       "<Figure size 576x432 with 2 Axes>"
      ]
     },
     "metadata": {},
     "output_type": "display_data"
    }
   ],
   "source": [
    "# Créer une figure pour le graphique de la matrice de confusion\n",
    "plt.figure(figsize=(8, 6))\n",
    "\n",
    "# Utiliser Seaborn pour afficher la matrice de confusion sous forme de heatmap\n",
    "sns.heatmap(confusion_matrix_reg_log, annot=True, fmt=\"d\", cmap=\"Greens\")\n",
    "\n",
    "# Ajouter des labels pour les axes x et y\n",
    "plt.xlabel('Valeurs Prédites')\n",
    "plt.ylabel('Valeurs Actuelles')\n",
    "\n",
    "# Ajout d'un titre pour le graphique\n",
    "plt.title('Confusion Matrix - Régression Logistique')\n",
    "\n",
    "# Afficher le graphique\n",
    "plt.show()"
   ]
  },
  {
   "cell_type": "code",
   "execution_count": 13,
   "id": "13f5afb6",
   "metadata": {},
   "outputs": [
    {
     "name": "stdout",
     "output_type": "stream",
     "text": [
      "Vrais négatifs : 103\n",
      "Vrais positifs : 194\n",
      "Faux négatifs : 1\n",
      "Faux positifs : 2\n"
     ]
    }
   ],
   "source": [
    "# Extraction des valeurs\n",
    "tn1, fp1, fn1, tp1 = confusion_matrix_reg_log.ravel()\n",
    "\n",
    "# Affichage\n",
    "print('Vrais négatifs :', tn1)\n",
    "print('Vrais positifs :', tp1)\n",
    "print('Faux négatifs :', fn1)\n",
    "print('Faux positifs :', fp1)"
   ]
  },
  {
   "cell_type": "code",
   "execution_count": 14,
   "id": "9aa54ad2",
   "metadata": {},
   "outputs": [],
   "source": [
    "class_report = classification_report(y_test, y_pred)"
   ]
  },
  {
   "cell_type": "code",
   "execution_count": 15,
   "id": "bae57aaa",
   "metadata": {},
   "outputs": [
    {
     "name": "stdout",
     "output_type": "stream",
     "text": [
      "Classification report:\n",
      "\n",
      "               precision    recall  f1-score   support\n",
      "\n",
      "           0       0.99      0.98      0.99       105\n",
      "           1       0.99      0.99      0.99       195\n",
      "\n",
      "    accuracy                           0.99       300\n",
      "   macro avg       0.99      0.99      0.99       300\n",
      "weighted avg       0.99      0.99      0.99       300\n",
      "\n"
     ]
    }
   ],
   "source": [
    "print(\"Classification report:\\n\\n\", class_report)"
   ]
  },
  {
   "cell_type": "code",
   "execution_count": 16,
   "id": "2dcc15ed",
   "metadata": {},
   "outputs": [],
   "source": [
    "#On sauvegarde le modèle de regression logistique dans un fichier\n",
    "\n",
    "with open('modele_regression_logistique.pkl', 'wb') as f:\n",
    "    pickle.dump(reg_log, f)"
   ]
  },
  {
   "cell_type": "code",
   "execution_count": null,
   "id": "a259d556",
   "metadata": {},
   "outputs": [],
   "source": []
  },
  {
   "cell_type": "markdown",
   "id": "f4439668",
   "metadata": {},
   "source": [
    "# K-Means\n",
    "\n",
    "K-means est un algorithme de clustering non supervisé utilisé pour partitionner un ensemble de données en k clusters en fonction de leur similarité."
   ]
  },
  {
   "cell_type": "markdown",
   "id": "599a87e2",
   "metadata": {},
   "source": [
    "## ACP\n",
    "\n",
    "Il est préférable d'utiliser L'ACP qui permet de réduire la dimensionnalité des données et de faciliter l'interprétation des résultats de K-means."
   ]
  },
  {
   "cell_type": "code",
   "execution_count": 17,
   "id": "13ccddc2",
   "metadata": {},
   "outputs": [
    {
     "data": {
      "text/html": [
       "<div>\n",
       "<style scoped>\n",
       "    .dataframe tbody tr th:only-of-type {\n",
       "        vertical-align: middle;\n",
       "    }\n",
       "\n",
       "    .dataframe tbody tr th {\n",
       "        vertical-align: top;\n",
       "    }\n",
       "\n",
       "    .dataframe thead th {\n",
       "        text-align: right;\n",
       "    }\n",
       "</style>\n",
       "<table border=\"1\" class=\"dataframe\">\n",
       "  <thead>\n",
       "    <tr style=\"text-align: right;\">\n",
       "      <th></th>\n",
       "      <th>diagonal</th>\n",
       "      <th>height_left</th>\n",
       "      <th>height_right</th>\n",
       "      <th>margin_low</th>\n",
       "      <th>margin_up</th>\n",
       "      <th>length</th>\n",
       "    </tr>\n",
       "  </thead>\n",
       "  <tbody>\n",
       "    <tr>\n",
       "      <th>0</th>\n",
       "      <td>171.81</td>\n",
       "      <td>104.86</td>\n",
       "      <td>104.95</td>\n",
       "      <td>4.52</td>\n",
       "      <td>2.89</td>\n",
       "      <td>112.83</td>\n",
       "    </tr>\n",
       "    <tr>\n",
       "      <th>1</th>\n",
       "      <td>171.46</td>\n",
       "      <td>103.36</td>\n",
       "      <td>103.66</td>\n",
       "      <td>3.77</td>\n",
       "      <td>2.99</td>\n",
       "      <td>113.09</td>\n",
       "    </tr>\n",
       "    <tr>\n",
       "      <th>2</th>\n",
       "      <td>172.69</td>\n",
       "      <td>104.48</td>\n",
       "      <td>103.50</td>\n",
       "      <td>4.40</td>\n",
       "      <td>2.94</td>\n",
       "      <td>113.16</td>\n",
       "    </tr>\n",
       "    <tr>\n",
       "      <th>3</th>\n",
       "      <td>171.36</td>\n",
       "      <td>103.91</td>\n",
       "      <td>103.94</td>\n",
       "      <td>3.62</td>\n",
       "      <td>3.01</td>\n",
       "      <td>113.51</td>\n",
       "    </tr>\n",
       "    <tr>\n",
       "      <th>4</th>\n",
       "      <td>171.73</td>\n",
       "      <td>104.28</td>\n",
       "      <td>103.46</td>\n",
       "      <td>4.04</td>\n",
       "      <td>3.48</td>\n",
       "      <td>112.54</td>\n",
       "    </tr>\n",
       "  </tbody>\n",
       "</table>\n",
       "</div>"
      ],
      "text/plain": [
       "   diagonal  height_left  height_right  margin_low  margin_up  length\n",
       "0    171.81       104.86        104.95        4.52       2.89  112.83\n",
       "1    171.46       103.36        103.66        3.77       2.99  113.09\n",
       "2    172.69       104.48        103.50        4.40       2.94  113.16\n",
       "3    171.36       103.91        103.94        3.62       3.01  113.51\n",
       "4    171.73       104.28        103.46        4.04       3.48  112.54"
      ]
     },
     "execution_count": 17,
     "metadata": {},
     "output_type": "execute_result"
    }
   ],
   "source": [
    "#Pour cela, on enlève la colonne is_génuine\n",
    "df_acp= df_final.drop(\"is_genuine\", axis=1).copy()\n",
    "df_acp.head()"
   ]
  },
  {
   "cell_type": "code",
   "execution_count": 18,
   "id": "4abc840c",
   "metadata": {},
   "outputs": [
    {
     "data": {
      "text/plain": [
       "array([[171.81, 104.86, 104.95,   4.52,   2.89, 112.83],\n",
       "       [171.46, 103.36, 103.66,   3.77,   2.99, 113.09],\n",
       "       [172.69, 104.48, 103.5 ,   4.4 ,   2.94, 113.16],\n",
       "       ...,\n",
       "       [171.8 , 104.01, 104.12,   5.51,   3.36, 111.95],\n",
       "       [172.06, 104.28, 104.06,   5.17,   3.46, 112.25],\n",
       "       [171.47, 104.15, 103.82,   4.63,   3.37, 112.07]])"
      ]
     },
     "execution_count": 18,
     "metadata": {},
     "output_type": "execute_result"
    }
   ],
   "source": [
    "#On convertit les données en array numpy\n",
    "X = df_acp.values\n",
    "X"
   ]
  },
  {
   "cell_type": "code",
   "execution_count": 19,
   "id": "911ca41e",
   "metadata": {},
   "outputs": [
    {
     "data": {
      "text/plain": [
       "Index(['diagonal', 'height_left', 'height_right', 'margin_low', 'margin_up',\n",
       "       'length'],\n",
       "      dtype='object')"
      ]
     },
     "execution_count": 19,
     "metadata": {},
     "output_type": "execute_result"
    }
   ],
   "source": [
    "df_acp.columns"
   ]
  },
  {
   "cell_type": "code",
   "execution_count": 20,
   "id": "d2652b02",
   "metadata": {},
   "outputs": [],
   "source": [
    "#On utilise le modèle de scaler sauvegardé \n",
    "#On fit (ou adapte) nos données et on les transforme\n",
    "X_scaled = scaler.fit_transform(X)"
   ]
  },
  {
   "cell_type": "code",
   "execution_count": 21,
   "id": "20c8b46e",
   "metadata": {},
   "outputs": [],
   "source": [
    "#Nombre de composantes\n",
    "n_components = 2"
   ]
  },
  {
   "cell_type": "code",
   "execution_count": 22,
   "id": "36ea4e64",
   "metadata": {},
   "outputs": [],
   "source": [
    "#on instancie l'ACP\n",
    "pca = PCA(n_components=n_components)"
   ]
  },
  {
   "cell_type": "code",
   "execution_count": 23,
   "id": "0f36cf1e",
   "metadata": {},
   "outputs": [
    {
     "name": "stdout",
     "output_type": "stream",
     "text": [
      "[43.28 16.96]\n"
     ]
    }
   ],
   "source": [
    "# Créer une instance de l'objet PCA\n",
    "pca = PCA(n_components=2)\n",
    "\n",
    "# Application de l'objet PCA sur les données standardisées\n",
    "X_train_std=pca.fit_transform(X_scaled)\n",
    "X_test_std=pca.transform(X_test)\n",
    "\n",
    "#On initialise la variable scree comprenant les ratios de la variance\n",
    "scree = (pca.explained_variance_ratio_*100).round(2)\n",
    "\n",
    "print(scree)"
   ]
  },
  {
   "cell_type": "code",
   "execution_count": 24,
   "id": "50fa8184",
   "metadata": {},
   "outputs": [
    {
     "name": "stdout",
     "output_type": "stream",
     "text": [
      "[43.28 60.24]\n"
     ]
    }
   ],
   "source": [
    "#Calcul de la somme cumulée de la variance\n",
    "scree_cum = scree.cumsum().round(2)\n",
    "print(scree_cum)\n"
   ]
  },
  {
   "cell_type": "markdown",
   "id": "fb881db7",
   "metadata": {},
   "source": [
    "- F1 explique ~ 43% de la variance\n",
    "- F1 et F2 expliquent ~ 60% de la variance"
   ]
  },
  {
   "cell_type": "code",
   "execution_count": 25,
   "id": "83ab7e4e",
   "metadata": {},
   "outputs": [
    {
     "name": "stdout",
     "output_type": "stream",
     "text": [
      "[2.59704823 1.01738689]\n"
     ]
    }
   ],
   "source": [
    "#valeur corrigée\n",
    "eigval = (df_acp.shape[0]-1)/df_acp.shape[0]*pca.explained_variance_\n",
    "print(eigval)"
   ]
  },
  {
   "cell_type": "code",
   "execution_count": 26,
   "id": "218c001d",
   "metadata": {},
   "outputs": [],
   "source": [
    "sqrt_eigval = np.sqrt(eigval)"
   ]
  },
  {
   "cell_type": "code",
   "execution_count": 27,
   "id": "b7a84ddf",
   "metadata": {},
   "outputs": [
    {
     "name": "stdout",
     "output_type": "stream",
     "text": [
      "[[-0.13644908  0.9494661 ]\n",
      " [ 0.53284329  0.31016723]\n",
      " [ 0.6342361   0.109243  ]\n",
      " [ 0.81807242 -0.07300199]\n",
      " [ 0.70825898 -0.00508627]\n",
      " [-0.84934046  0.04907254]]\n"
     ]
    }
   ],
   "source": [
    "#corrélation des variables avec les axes\n",
    "corvar = np.zeros((6,2))\n",
    "for k in range(2):\n",
    "   corvar[:,k] = pca.components_[k,:] * sqrt_eigval[k]\n",
    "#affichage de la matrice des corrélations variables \n",
    "print(corvar)"
   ]
  },
  {
   "cell_type": "code",
   "execution_count": 28,
   "id": "ca27b670",
   "metadata": {
    "scrolled": true
   },
   "outputs": [
    {
     "data": {
      "text/plain": [
       "[range(1, 3), array([2.59704823, 1.01738689])]"
      ]
     },
     "execution_count": 28,
     "metadata": {},
     "output_type": "execute_result"
    }
   ],
   "source": [
    "#Initialisation d'une variable avec la liste de nos composantes :\n",
    "x_list = (range(1, n_components+1),eigval)\n",
    "list(x_list)"
   ]
  },
  {
   "cell_type": "markdown",
   "id": "14a62b8c",
   "metadata": {},
   "source": [
    "### Cercle de corrélation"
   ]
  },
  {
   "cell_type": "code",
   "execution_count": 29,
   "id": "d2093b22",
   "metadata": {},
   "outputs": [
    {
     "data": {
      "text/plain": [
       "(0, 1)"
      ]
     },
     "execution_count": 29,
     "metadata": {},
     "output_type": "execute_result"
    }
   ],
   "source": [
    "#Définition des axes x et y. \n",
    "#Comme - en code - on commence à compter à partir de 0, cela nous donne :\n",
    "\n",
    "x_y = (0,1)\n",
    "x_y"
   ]
  },
  {
   "cell_type": "code",
   "execution_count": 30,
   "id": "8aecf67d",
   "metadata": {},
   "outputs": [
    {
     "data": {
      "text/html": [
       "<div>\n",
       "<style scoped>\n",
       "    .dataframe tbody tr th:only-of-type {\n",
       "        vertical-align: middle;\n",
       "    }\n",
       "\n",
       "    .dataframe tbody tr th {\n",
       "        vertical-align: top;\n",
       "    }\n",
       "\n",
       "    .dataframe thead th {\n",
       "        text-align: right;\n",
       "    }\n",
       "</style>\n",
       "<table border=\"1\" class=\"dataframe\">\n",
       "  <thead>\n",
       "    <tr style=\"text-align: right;\">\n",
       "      <th></th>\n",
       "      <th>id</th>\n",
       "      <th>COR_1</th>\n",
       "      <th>COR_2</th>\n",
       "    </tr>\n",
       "  </thead>\n",
       "  <tbody>\n",
       "    <tr>\n",
       "      <th>0</th>\n",
       "      <td>diagonal</td>\n",
       "      <td>-0.136449</td>\n",
       "      <td>0.949466</td>\n",
       "    </tr>\n",
       "    <tr>\n",
       "      <th>1</th>\n",
       "      <td>height_left</td>\n",
       "      <td>0.532843</td>\n",
       "      <td>0.310167</td>\n",
       "    </tr>\n",
       "    <tr>\n",
       "      <th>2</th>\n",
       "      <td>height_right</td>\n",
       "      <td>0.634236</td>\n",
       "      <td>0.109243</td>\n",
       "    </tr>\n",
       "    <tr>\n",
       "      <th>3</th>\n",
       "      <td>margin_low</td>\n",
       "      <td>0.818072</td>\n",
       "      <td>-0.073002</td>\n",
       "    </tr>\n",
       "    <tr>\n",
       "      <th>4</th>\n",
       "      <td>margin_up</td>\n",
       "      <td>0.708259</td>\n",
       "      <td>-0.005086</td>\n",
       "    </tr>\n",
       "    <tr>\n",
       "      <th>5</th>\n",
       "      <td>length</td>\n",
       "      <td>-0.849340</td>\n",
       "      <td>0.049073</td>\n",
       "    </tr>\n",
       "  </tbody>\n",
       "</table>\n",
       "</div>"
      ],
      "text/plain": [
       "             id     COR_1     COR_2\n",
       "0      diagonal -0.136449  0.949466\n",
       "1   height_left  0.532843  0.310167\n",
       "2  height_right  0.634236  0.109243\n",
       "3    margin_low  0.818072 -0.073002\n",
       "4     margin_up  0.708259 -0.005086\n",
       "5        length -0.849340  0.049073"
      ]
     },
     "execution_count": 30,
     "metadata": {},
     "output_type": "execute_result"
    }
   ],
   "source": [
    "#Détermination de la corrélation des variables par rapport aux nouveaux axes F1 et F2\n",
    "df1=pd.DataFrame({'id':df_final.iloc[:,1:7].columns,'COR_1':corvar[:,0],'COR_2':corvar[:,1]})\n",
    "df1"
   ]
  },
  {
   "cell_type": "code",
   "execution_count": 31,
   "id": "a0319f9c",
   "metadata": {},
   "outputs": [
    {
     "data": {
      "image/png": "[encoded data removed]",
      "text/plain": [
       "<Figure size 576x576 with 1 Axes>"
      ]
     },
     "metadata": {},
     "output_type": "display_data"
    }
   ],
   "source": [
    "#cercle des corrélations\n",
    "fig, axes = plt.subplots(figsize=(8,8))\n",
    "axes.set_xlim(-1,1)\n",
    "axes.set_ylim(-1,1)\n",
    "#affichage des étiquettes (noms des variables)\n",
    "for j in range(6):\n",
    "   plt.annotate(df_final.iloc[:,1:7].columns[j],(corvar[j,0],corvar[j,1]),size=12)\n",
    "   plt.plot([0, corvar[j,0]], [0, corvar[j,1]],color='Blue')\n",
    "#ajouter les axes\n",
    "plt.plot([-1,1],[0,0],color='silver',linestyle='-',linewidth=1)\n",
    "plt.plot([0,0],[-1,1],color='silver',linestyle='-',linewidth=1)\n",
    "\n",
    "#ajouter un cercle\n",
    "cercle = plt.Circle((0,0),1,color='blue',fill=False)\n",
    "axes.add_artist(cercle)\n",
    "#affichage\n",
    "plt.show()"
   ]
  },
  {
   "cell_type": "markdown",
   "id": "6bbf03b0",
   "metadata": {},
   "source": [
    "- F1 est fortement positivement corrélé à margin_low et margin_up, et négativement corrélé à length\n",
    "- F2 est positivement fortement corrélé à diagonal"
   ]
  },
  {
   "cell_type": "code",
   "execution_count": 32,
   "id": "7a4ef6e9",
   "metadata": {},
   "outputs": [
    {
     "data": {
      "text/plain": [
       "array([[ 1.6445244 ,  0.74773053],\n",
       "       [-2.01970276, -2.20748105],\n",
       "       [-0.96942494,  2.6205464 ],\n",
       "       ...,\n",
       "       [ 1.89034897, -0.60039742],\n",
       "       [ 1.79045869,  0.51105743],\n",
       "       [ 1.04264976, -1.47147445]])"
      ]
     },
     "execution_count": 32,
     "metadata": {},
     "output_type": "execute_result"
    }
   ],
   "source": [
    "#Calcul les données initiales sur les deux axes \n",
    "X_projected = pca.transform(X_scaled)\n",
    "X_projected"
   ]
  },
  {
   "cell_type": "code",
   "execution_count": 33,
   "id": "93c88972",
   "metadata": {},
   "outputs": [],
   "source": [
    "# Projection des individus sur les nouveaux axes \n",
    "def display_factorial_planes(   X_projected, \n",
    "                                x_y, \n",
    "                                pca=None, \n",
    "                                labels = None,\n",
    "                                clusters=None, \n",
    "                                alpha=1,\n",
    "                                figsize=[12,12], \n",
    "                                marker=\".\" ):\n",
    "    \"\"\"\n",
    "    Affiche la projection des individus\n",
    "\n",
    "    Positional arguments : \n",
    "    -------------------------------------\n",
    "    X_projected : np.array, pd.DataFrame, list of list : la matrice des points projetés\n",
    "    x_y : list ou tuple : le couple x,y des plans à afficher, exemple [0,1] pour F1, F2\n",
    "\n",
    "    Optional arguments : \n",
    "    -------------------------------------\n",
    "    pca : sklearn.decomposition.PCA : un objet PCA qui a été fit, cela nous permettra d'afficher la variance de chaque composante, default = None\n",
    "    labels : list ou tuple : les labels des individus à projeter, default = None\n",
    "    clusters : list ou tuple : la liste des clusters auquel appartient chaque individu, default = None\n",
    "    alpha : float in [0,1] : paramètre de transparence, 0=100% transparent, 1=0% transparent, default = 1\n",
    "    figsize : list ou tuple : couple width, height qui définit la taille de la figure en inches, default = [10,8] \n",
    "    marker : str : le type de marker utilisé pour représenter les individus, points croix etc etc, default = \".\"\n",
    "    \"\"\"\n",
    "\n",
    "    # Transforme X_projected en np.array\n",
    "    X_ = np.array(X_projected)\n",
    "\n",
    "    # On définit la forme de la figure si elle n'a pas été donnée\n",
    "    if not figsize: \n",
    "        figsize = (20,20)\n",
    "\n",
    "    # On gère les labels\n",
    "    if  labels is None : \n",
    "        labels = []\n",
    "    try : \n",
    "        len(labels)\n",
    "    except Exception as e : \n",
    "        raise e\n",
    "\n",
    "    # On vérifie la variable axis \n",
    "    if not len(x_y) ==2 : \n",
    "        raise AttributeError(\"2 axes sont demandées\")   \n",
    "    if max(x_y )>= X_.shape[1] : \n",
    "        raise AttributeError(\"la variable axis n'est pas bonne\")   \n",
    "\n",
    "    # on définit x et y \n",
    "    x, y = x_y\n",
    "\n",
    "    # Initialisation de la figure       \n",
    "    fig, ax = plt.subplots(1, 1, figsize=figsize)\n",
    "\n",
    "    # On vérifie s'il y a des clusters ou non\n",
    "    c = None if clusters is None else clusters\n",
    " \n",
    "    # Les points    \n",
    "    # plt.scatter(   X_[:, x], X_[:, y], alpha=alpha, \n",
    "    #                     c=c, cmap=\"Set1\", marker=marker)\n",
    "    sns.scatterplot(data=None, x=X_[:, x], y=X_[:, y], hue=c)\n",
    "\n",
    "    # Si la variable pca a été fournie, on peut calculer le % de variance de chaque axe \n",
    "    if pca : \n",
    "        v1 = str(round(100*pca.explained_variance_ratio_[x]))  + \" %\"\n",
    "        v2 = str(round(100*pca.explained_variance_ratio_[y]))  + \" %\"\n",
    "    else : \n",
    "        v1=v2= ''\n",
    "\n",
    "    # Nom des axes, avec le pourcentage d'inertie expliqué\n",
    "    ax.set_xlabel(f'F{x+1} {v1}')\n",
    "    ax.set_ylabel(f'F{y+1} {v2}')\n",
    "\n",
    "    # Valeur x max et y max\n",
    "    x_max = np.abs(X_[:, x]).max() *1.1\n",
    "    y_max = np.abs(X_[:, y]).max() *1.1\n",
    "\n",
    "    # On borne x et y \n",
    "    ax.set_xlim(left=-x_max, right=x_max)\n",
    "    ax.set_ylim(bottom= -y_max, top=y_max)\n",
    "\n",
    "    # Affichage des lignes horizontales et verticales\n",
    "    plt.plot([-x_max, x_max], [0, 0], color='grey', alpha=0.8)\n",
    "    plt.plot([0,0], [-y_max, y_max], color='grey', alpha=0.8)\n",
    "\n",
    "    # Affichage des labels des points\n",
    "    if len(labels) : \n",
    "        for i,(_x,_y) in enumerate(X_[:,[x,y]]):\n",
    "            plt.text(_x, _y+0.05, labels[i], fontsize='14', ha='center',va='center') \n",
    "\n",
    "    # Titre et display\n",
    "    plt.title(f\"Projection des individus (sur F{x+1} et F{y+1})\")\n",
    "    \n",
    "    plt.show()"
   ]
  },
  {
   "cell_type": "code",
   "execution_count": 34,
   "id": "c092406f",
   "metadata": {},
   "outputs": [
    {
     "data": {
      "image/png": "[encoded data removed]",
      "text/plain": [
       "<Figure size 432x288 with 2 Axes>"
      ]
     },
     "metadata": {},
     "output_type": "display_data"
    }
   ],
   "source": [
    "#Affichage du graphique \n",
    "x_y = [0,1]\n",
    "\n",
    "\n",
    "# Création d'un graphique de dispersion avec des couleurs basées sur la colonne 'is_genuine'\n",
    "plt.scatter(X_projected[:,0], X_projected[:,1], c=df_final.get('is_genuine'), cmap='viridis')\n",
    "\n",
    "# Ajout du label 'is_genuine' pour la colorbar\n",
    "plt.colorbar(label='is_genuine')\n",
    "\n",
    "# Afficher le graphique\n",
    "plt.show()"
   ]
  },
  {
   "cell_type": "markdown",
   "id": "918694a5",
   "metadata": {},
   "source": [
    "On voit dans ce scatter plot, une nette différence entre les vrais et faux billets qui ont l'air fortement dépendants de l'axe F1"
   ]
  },
  {
   "cell_type": "code",
   "execution_count": 35,
   "id": "609102af",
   "metadata": {},
   "outputs": [],
   "source": [
    "# Sélectionner les coordonnées deux premières colonnes (F1 et F2)\n",
    "X_pca_reduit = pca.fit_transform(X_scaled)[:, :2]"
   ]
  },
  {
   "cell_type": "code",
   "execution_count": 36,
   "id": "d75b85a2",
   "metadata": {},
   "outputs": [],
   "source": [
    "#Ajout des Axes F1 et F2\n",
    "df_acp=pd.concat([df_final.reset_index(drop=True),pd.DataFrame(X_pca_reduit)],axis=1)"
   ]
  },
  {
   "cell_type": "code",
   "execution_count": 37,
   "id": "2f880a9b",
   "metadata": {},
   "outputs": [
    {
     "data": {
      "text/html": [
       "<div>\n",
       "<style scoped>\n",
       "    .dataframe tbody tr th:only-of-type {\n",
       "        vertical-align: middle;\n",
       "    }\n",
       "\n",
       "    .dataframe tbody tr th {\n",
       "        vertical-align: top;\n",
       "    }\n",
       "\n",
       "    .dataframe thead th {\n",
       "        text-align: right;\n",
       "    }\n",
       "</style>\n",
       "<table border=\"1\" class=\"dataframe\">\n",
       "  <thead>\n",
       "    <tr style=\"text-align: right;\">\n",
       "      <th></th>\n",
       "      <th>is_genuine</th>\n",
       "      <th>diagonal</th>\n",
       "      <th>height_left</th>\n",
       "      <th>height_right</th>\n",
       "      <th>margin_low</th>\n",
       "      <th>margin_up</th>\n",
       "      <th>length</th>\n",
       "      <th>0</th>\n",
       "      <th>1</th>\n",
       "    </tr>\n",
       "  </thead>\n",
       "  <tbody>\n",
       "    <tr>\n",
       "      <th>0</th>\n",
       "      <td>1</td>\n",
       "      <td>171.81</td>\n",
       "      <td>104.86</td>\n",
       "      <td>104.95</td>\n",
       "      <td>4.52</td>\n",
       "      <td>2.89</td>\n",
       "      <td>112.83</td>\n",
       "      <td>1.644524</td>\n",
       "      <td>0.747731</td>\n",
       "    </tr>\n",
       "    <tr>\n",
       "      <th>1</th>\n",
       "      <td>1</td>\n",
       "      <td>171.46</td>\n",
       "      <td>103.36</td>\n",
       "      <td>103.66</td>\n",
       "      <td>3.77</td>\n",
       "      <td>2.99</td>\n",
       "      <td>113.09</td>\n",
       "      <td>-2.019703</td>\n",
       "      <td>-2.207481</td>\n",
       "    </tr>\n",
       "    <tr>\n",
       "      <th>2</th>\n",
       "      <td>1</td>\n",
       "      <td>172.69</td>\n",
       "      <td>104.48</td>\n",
       "      <td>103.50</td>\n",
       "      <td>4.40</td>\n",
       "      <td>2.94</td>\n",
       "      <td>113.16</td>\n",
       "      <td>-0.969425</td>\n",
       "      <td>2.620546</td>\n",
       "    </tr>\n",
       "    <tr>\n",
       "      <th>3</th>\n",
       "      <td>1</td>\n",
       "      <td>171.36</td>\n",
       "      <td>103.91</td>\n",
       "      <td>103.94</td>\n",
       "      <td>3.62</td>\n",
       "      <td>3.01</td>\n",
       "      <td>113.51</td>\n",
       "      <td>-1.377256</td>\n",
       "      <td>-1.818438</td>\n",
       "    </tr>\n",
       "    <tr>\n",
       "      <th>4</th>\n",
       "      <td>1</td>\n",
       "      <td>171.73</td>\n",
       "      <td>104.28</td>\n",
       "      <td>103.46</td>\n",
       "      <td>4.04</td>\n",
       "      <td>3.48</td>\n",
       "      <td>112.54</td>\n",
       "      <td>0.149170</td>\n",
       "      <td>-0.566932</td>\n",
       "    </tr>\n",
       "    <tr>\n",
       "      <th>...</th>\n",
       "      <td>...</td>\n",
       "      <td>...</td>\n",
       "      <td>...</td>\n",
       "      <td>...</td>\n",
       "      <td>...</td>\n",
       "      <td>...</td>\n",
       "      <td>...</td>\n",
       "      <td>...</td>\n",
       "      <td>...</td>\n",
       "    </tr>\n",
       "    <tr>\n",
       "      <th>1495</th>\n",
       "      <td>0</td>\n",
       "      <td>171.75</td>\n",
       "      <td>104.38</td>\n",
       "      <td>104.17</td>\n",
       "      <td>4.42</td>\n",
       "      <td>3.09</td>\n",
       "      <td>111.28</td>\n",
       "      <td>1.426627</td>\n",
       "      <td>-0.269775</td>\n",
       "    </tr>\n",
       "    <tr>\n",
       "      <th>1496</th>\n",
       "      <td>0</td>\n",
       "      <td>172.19</td>\n",
       "      <td>104.63</td>\n",
       "      <td>104.44</td>\n",
       "      <td>5.27</td>\n",
       "      <td>3.37</td>\n",
       "      <td>110.97</td>\n",
       "      <td>3.279949</td>\n",
       "      <td>1.317706</td>\n",
       "    </tr>\n",
       "    <tr>\n",
       "      <th>1497</th>\n",
       "      <td>0</td>\n",
       "      <td>171.80</td>\n",
       "      <td>104.01</td>\n",
       "      <td>104.12</td>\n",
       "      <td>5.51</td>\n",
       "      <td>3.36</td>\n",
       "      <td>111.95</td>\n",
       "      <td>1.890349</td>\n",
       "      <td>-0.600397</td>\n",
       "    </tr>\n",
       "    <tr>\n",
       "      <th>1498</th>\n",
       "      <td>0</td>\n",
       "      <td>172.06</td>\n",
       "      <td>104.28</td>\n",
       "      <td>104.06</td>\n",
       "      <td>5.17</td>\n",
       "      <td>3.46</td>\n",
       "      <td>112.25</td>\n",
       "      <td>1.790459</td>\n",
       "      <td>0.511057</td>\n",
       "    </tr>\n",
       "    <tr>\n",
       "      <th>1499</th>\n",
       "      <td>0</td>\n",
       "      <td>171.47</td>\n",
       "      <td>104.15</td>\n",
       "      <td>103.82</td>\n",
       "      <td>4.63</td>\n",
       "      <td>3.37</td>\n",
       "      <td>112.07</td>\n",
       "      <td>1.042650</td>\n",
       "      <td>-1.471474</td>\n",
       "    </tr>\n",
       "  </tbody>\n",
       "</table>\n",
       "<p>1500 rows × 9 columns</p>\n",
       "</div>"
      ],
      "text/plain": [
       "      is_genuine  diagonal  height_left  height_right  margin_low  margin_up  \\\n",
       "0              1    171.81       104.86        104.95        4.52       2.89   \n",
       "1              1    171.46       103.36        103.66        3.77       2.99   \n",
       "2              1    172.69       104.48        103.50        4.40       2.94   \n",
       "3              1    171.36       103.91        103.94        3.62       3.01   \n",
       "4              1    171.73       104.28        103.46        4.04       3.48   \n",
       "...          ...       ...          ...           ...         ...        ...   \n",
       "1495           0    171.75       104.38        104.17        4.42       3.09   \n",
       "1496           0    172.19       104.63        104.44        5.27       3.37   \n",
       "1497           0    171.80       104.01        104.12        5.51       3.36   \n",
       "1498           0    172.06       104.28        104.06        5.17       3.46   \n",
       "1499           0    171.47       104.15        103.82        4.63       3.37   \n",
       "\n",
       "      length         0         1  \n",
       "0     112.83  1.644524  0.747731  \n",
       "1     113.09 -2.019703 -2.207481  \n",
       "2     113.16 -0.969425  2.620546  \n",
       "3     113.51 -1.377256 -1.818438  \n",
       "4     112.54  0.149170 -0.566932  \n",
       "...      ...       ...       ...  \n",
       "1495  111.28  1.426627 -0.269775  \n",
       "1496  110.97  3.279949  1.317706  \n",
       "1497  111.95  1.890349 -0.600397  \n",
       "1498  112.25  1.790459  0.511057  \n",
       "1499  112.07  1.042650 -1.471474  \n",
       "\n",
       "[1500 rows x 9 columns]"
      ]
     },
     "execution_count": 37,
     "metadata": {},
     "output_type": "execute_result"
    }
   ],
   "source": [
    "df_acp"
   ]
  },
  {
   "cell_type": "markdown",
   "id": "07951131",
   "metadata": {},
   "source": [
    "# Algorithme de classification non supervisée du K-Means"
   ]
  },
  {
   "cell_type": "code",
   "execution_count": 38,
   "id": "5cf3486d",
   "metadata": {},
   "outputs": [
    {
     "data": {
      "image/png": "[encoded data removed]",
      "text/plain": [
       "<Figure size 432x288 with 1 Axes>"
      ]
     },
     "metadata": {},
     "output_type": "display_data"
    }
   ],
   "source": [
    "#Méthode du coude normalisée pour avoir le nobmre de clusters optimal\n",
    "\n",
    "# Calcul de l'inertie pour différentes valeurs \n",
    "inertias = []\n",
    "for k in range(1, 11):\n",
    "    kmeans = KMeans(n_clusters=k, random_state=0)\n",
    "    kmeans.fit(X_projected)\n",
    "    inertias.append(kmeans.inertia_)\n",
    "inertias_norm = inertias / np.sum(eigval[:6])\n",
    "plt.plot(range(1, 11), inertias_norm, marker='o')\n",
    "plt.xlabel('Nombre de clusters')\n",
    "plt.ylabel(\"Inertie normalisée\")\n",
    "plt.title(\"Méthode du coude normalisée\")\n",
    "plt.show()"
   ]
  },
  {
   "cell_type": "markdown",
   "id": "799c6b0b",
   "metadata": {},
   "source": [
    "### La méthode du score de Silhouette : Autre méthode de détermination du nombre de clusters"
   ]
  },
  {
   "cell_type": "code",
   "execution_count": 39,
   "id": "84122cce",
   "metadata": {},
   "outputs": [
    {
     "name": "stdout",
     "output_type": "stream",
     "text": [
      "Silhouette Score for k = 2: 0.537\n",
      "Silhouette Score for k = 3: 0.422\n",
      "Silhouette Score for k = 4: 0.372\n",
      "Silhouette Score for k = 5: 0.348\n",
      "Silhouette Score for k = 6: 0.339\n",
      "Silhouette Score for k = 7: 0.335\n",
      "Silhouette Score for k = 8: 0.322\n",
      "Silhouette Score for k = 9: 0.323\n",
      "Silhouette Score for k = 10: 0.322\n",
      "Silhouette Score for k = 11: 0.321\n",
      "Silhouette Score for k = 12: 0.326\n",
      "Silhouette Score for k = 13: 0.331\n",
      "Silhouette Score for k = 14: 0.324\n",
      "Silhouette Score for k = 15: 0.323\n",
      "Silhouette Score for k = 16: 0.317\n",
      "Silhouette Score for k = 17: 0.321\n",
      "Silhouette Score for k = 18: 0.321\n",
      "Silhouette Score for k = 19: 0.326\n",
      "Silhouette Score for k = 20: 0.325\n",
      "Silhouette Score for k = 21: 0.328\n",
      "Silhouette Score for k = 22: 0.330\n",
      "Silhouette Score for k = 23: 0.339\n",
      "Silhouette Score for k = 24: 0.328\n",
      "Silhouette Score for k = 25: 0.335\n",
      "Silhouette Score for k = 26: 0.331\n",
      "Silhouette Score for k = 27: 0.332\n"
     ]
    }
   ],
   "source": [
    "#Importation de la librairie du silhouette score qui permet de déterminer le nombre de clusters\n",
    "\n",
    "from sklearn.metrics import silhouette_score\n",
    "\n",
    "# Détermination du nombre maximal de clusters\n",
    "limit = int((df_acp.shape[0]//2)**0.5)\n",
    " \n",
    "# Détermination du nombre de clusters optimal avec la méthode de Silhouette\n",
    "for k in range(2, limit+1):\n",
    "    model_kmeans = KMeans(n_clusters=k)\n",
    "    model_kmeans.fit(X_projected)\n",
    "    pred = model_kmeans.predict(X_projected)\n",
    "    score = silhouette_score(X_projected, pred)\n",
    "    print('Silhouette Score for k = {}: {:<.3f}'.format(k, score))"
   ]
  },
  {
   "cell_type": "markdown",
   "id": "51d29197",
   "metadata": {},
   "source": [
    "- Le score de silhouette est le plus proche de 1 pour k=2. \n",
    "- Nous allons utiliser k=2 car nous voulons classifier en deux groupes distincts vrai ou faux"
   ]
  },
  {
   "cell_type": "code",
   "execution_count": 40,
   "id": "d6946320",
   "metadata": {},
   "outputs": [
    {
     "data": {
      "image/png": "[encoded data removed]",
      "text/plain": [
       "<Figure size 432x288 with 1 Axes>"
      ]
     },
     "metadata": {},
     "output_type": "display_data"
    }
   ],
   "source": [
    "# Calcul du score de silhouette pour différentes valeurs de k\n",
    "silhouette_scores = []\n",
    "for k in range(2, 11):\n",
    "    kmeans = KMeans(n_clusters=k, random_state=0)\n",
    "    cluster_labels = kmeans.fit_predict(X_projected)\n",
    "    silhouette_scores.append(silhouette_score(X_projected, cluster_labels))\n",
    "\n",
    "# Tracé de la courbe de score de silhouette\n",
    "plt.plot(range(2, 11), silhouette_scores, marker='o')\n",
    "plt.xlabel('Nombre de clusters')\n",
    "plt.ylabel('Score de silhouette')\n",
    "plt.title('Score de silhouette pour différents nombres de clusters')\n",
    "plt.show()"
   ]
  },
  {
   "cell_type": "markdown",
   "id": "c485985d",
   "metadata": {},
   "source": [
    "# Modélisation du k-Means\n",
    "\n",
    "En appliquant le PCA aux centroids obtenus dans le K-Means, on projette les centroids dans les nouveaux axes F1 et F2 qui captent la majorité de la variance."
   ]
  },
  {
   "cell_type": "code",
   "execution_count": 41,
   "id": "3de9626d",
   "metadata": {},
   "outputs": [],
   "source": [
    "#Données\n",
    "X = df_final[['diagonal', 'height_left', 'height_right', 'margin_low', 'margin_up', 'length']]\n",
    "y = df_final['is_genuine'] "
   ]
  },
  {
   "cell_type": "code",
   "execution_count": 42,
   "id": "734b4466",
   "metadata": {},
   "outputs": [],
   "source": [
    "# Standardisation des données avec le modèle de scaler sauvegardé \n",
    "data_std = scaler.fit_transform(X)"
   ]
  },
  {
   "cell_type": "code",
   "execution_count": 43,
   "id": "0964e403",
   "metadata": {},
   "outputs": [],
   "source": [
    "# Séparation des données d'entraînement et de test\n",
    "X_train_std, X_test_std = train_test_split(data_std, test_size=0.2, random_state=4)"
   ]
  },
  {
   "cell_type": "code",
   "execution_count": 44,
   "id": "cfb49047",
   "metadata": {},
   "outputs": [],
   "source": [
    "# Application de l'ACP à 2 dimensions\n",
    "pca = PCA(n_components=2)\n",
    "data_pca = pca.fit_transform(data_std)\n",
    "\n",
    "# Réduction de la dimensionnalité des données de test à 2 dimensions en utilisant l'ACP\n",
    "data_pca_test = pca.transform(X_test_std)\n",
    "\n",
    "# Prédiction des clusters pour les données de test\n",
    "y_pred_kmeans = model_kmeans.predict(data_pca_test)"
   ]
  },
  {
   "cell_type": "code",
   "execution_count": 45,
   "id": "fb363aaf",
   "metadata": {},
   "outputs": [],
   "source": [
    "# Instanciation Kmeans\n",
    "model_kmeans = KMeans(n_clusters=2, random_state=4)"
   ]
  },
  {
   "cell_type": "code",
   "execution_count": 46,
   "id": "cc656784",
   "metadata": {},
   "outputs": [],
   "source": [
    "#Appliquer la méthode K-means sur les deux premières dimensions de l'ACP avec 2 clusters\n",
    "df_acp['kmeans_cluster'] = model_kmeans.fit(data_pca)"
   ]
  },
  {
   "cell_type": "markdown",
   "id": "4ea92054",
   "metadata": {},
   "source": [
    "Nous n'utilisons pas la méthode fit_transform pour appliquer la méthode K-means sur les deux premières dimensions de l'ACP avec 2 clusters. Cela est dû au fait que la méthode fit_transform est utilisée pour effectuer à la fois l'ajustement (fit) et la transformation (transform) des données, ce qui n'est pas nécessaire pour la méthode K-means."
   ]
  },
  {
   "cell_type": "code",
   "execution_count": 47,
   "id": "38c880d4",
   "metadata": {},
   "outputs": [],
   "source": [
    "# Visualisation des centroids des clusters\n",
    "centroids_pca = kmeans.cluster_centers_\n",
    "centroids = pca.inverse_transform(centroids_pca)"
   ]
  },
  {
   "cell_type": "code",
   "execution_count": 48,
   "id": "bc5fcdf5",
   "metadata": {
    "scrolled": true
   },
   "outputs": [
    {
     "data": {
      "image/png": "[encoded data removed]",
      "text/plain": [
       "<Figure size 432x288 with 1 Axes>"
      ]
     },
     "metadata": {},
     "output_type": "display_data"
    }
   ],
   "source": [
    "# Affichage des clusters et des centroids\n",
    "plt.scatter(data_pca[:, 0], data_pca[:, 1], c=model_kmeans.labels_, cmap=\"Accent\")\n",
    "plt.scatter(model_kmeans.cluster_centers_[:, 0], model_kmeans.cluster_centers_[:, 1], marker='x', s=200, linewidths=3, color='r')\n",
    "plt.xlabel('Composante principale 1')\n",
    "plt.ylabel('Composante principale 2')\n",
    "plt.title('Projection des clusters et centroides sur le plan factoriel')\n",
    "\n",
    "plt.show()"
   ]
  },
  {
   "cell_type": "markdown",
   "id": "7ea1cdca",
   "metadata": {},
   "source": [
    "### Matrice de confusion - KMeans"
   ]
  },
  {
   "cell_type": "code",
   "execution_count": 49,
   "id": "7300fe4b",
   "metadata": {},
   "outputs": [
    {
     "name": "stdout",
     "output_type": "stream",
     "text": [
      "[[103   2]\n",
      " [  4 191]]\n"
     ]
    }
   ],
   "source": [
    "#Matrice de confusion\n",
    "from sklearn.metrics import confusion_matrix\n",
    "\n",
    "y_pred_kmeans = model_kmeans.predict(data_pca_test)\n",
    "\n",
    "confusion_matrix_kmeans = confusion_matrix(y_test, model_kmeans.predict(data_pca_test))\n",
    "print(confusion_matrix_kmeans) "
   ]
  },
  {
   "cell_type": "code",
   "execution_count": 50,
   "id": "70a38eca",
   "metadata": {},
   "outputs": [
    {
     "data": {
      "image/png": "[encoded data removed]",
      "text/plain": [
       "<Figure size 576x432 with 2 Axes>"
      ]
     },
     "metadata": {},
     "output_type": "display_data"
    }
   ],
   "source": [
    "# Affichage du graphique de la matrice de confusion\n",
    "plt.figure(figsize=(8, 6))\n",
    "\n",
    "# Matrice de confusion sous forme de heatmap\n",
    "sns.heatmap(confusion_matrix_kmeans, annot=True, fmt=\"d\", cmap=\"Greens\")\n",
    "\n",
    "# Ajout des labels pour les axes x et y\n",
    "plt.xlabel('Valeurs Prédites')\n",
    "plt.ylabel('Valeurs Actuelles')\n",
    "\n",
    "# Ajout d'un titre pour le graphique\n",
    "plt.title('Confusion Matrix - Kmeans')\n",
    "\n",
    "# Afficher le graphique\n",
    "plt.show()"
   ]
  },
  {
   "cell_type": "code",
   "execution_count": 51,
   "id": "bf22ee89",
   "metadata": {},
   "outputs": [
    {
     "name": "stdout",
     "output_type": "stream",
     "text": [
      "Vrais négatifs : 103\n",
      "Vrais positifs : 191\n",
      "Faux négatifs : 4\n",
      "Faux positifs : 2\n"
     ]
    }
   ],
   "source": [
    "# Extraction des valeurs\n",
    "tn1, fp1, fn1, tp1 = confusion_matrix_kmeans.ravel()\n",
    "\n",
    "# Affichage\n",
    "print('Vrais négatifs :', tn1)\n",
    "print('Vrais positifs :', tp1)\n",
    "print('Faux négatifs :', fn1)\n",
    "print('Faux positifs :', fp1)"
   ]
  },
  {
   "cell_type": "markdown",
   "id": "7e16f6a1",
   "metadata": {},
   "source": [
    "## La courbe ROC"
   ]
  },
  {
   "cell_type": "code",
   "execution_count": 52,
   "id": "962d9249",
   "metadata": {
    "scrolled": true
   },
   "outputs": [
    {
     "data": {
      "image/png": "[encoded data removed]",
      "text/plain": [
       "<Figure size 432x288 with 1 Axes>"
      ]
     },
     "metadata": {},
     "output_type": "display_data"
    }
   ],
   "source": [
    "# Calcul de la courbe ROC et l'aire sous la courbe (AUC)\n",
    "fpr, tpr, thresholds = roc_curve(y_test, model_kmeans.predict(data_pca_test))\n",
    "auc = roc_auc_score(y_test, model_kmeans.predict(data_pca_test))\n",
    "\n",
    "# Affichage de la courbe ROC\n",
    "plt.plot(fpr, tpr, label='ROC curve (area = %0.2f)' % auc)\n",
    "plt.plot([0, 1], [0, 1], 'k--')\n",
    "plt.xlim([0.0, 1.0])\n",
    "plt.ylim([0.0, 1.05])\n",
    "plt.xlabel('False Positive Rate')\n",
    "plt.ylabel('True Positive Rate')\n",
    "plt.title('Receiver Operating Characteristic')\n",
    "plt.legend(loc=\"lower right\")\n",
    "plt.show()"
   ]
  },
  {
   "cell_type": "code",
   "execution_count": 53,
   "id": "f8eb8bc4",
   "metadata": {},
   "outputs": [
    {
     "name": "stdout",
     "output_type": "stream",
     "text": [
      "Le score AUC du modèle Kmeans est de 98.02 %\n"
     ]
    }
   ],
   "source": [
    "print(\"Le score AUC du modèle Kmeans est de\", round(auc*100,2), \"%\")"
   ]
  },
  {
   "cell_type": "markdown",
   "id": "16038c30",
   "metadata": {},
   "source": [
    "Avec un score AUC de 98.88% de precision, le modèle de régression logistique est le plus performant dans le cadre de cette étude."
   ]
  },
  {
   "cell_type": "markdown",
   "id": "2b007d85",
   "metadata": {},
   "source": [
    "# Sélection de l'algorithme"
   ]
  },
  {
   "cell_type": "markdown",
   "id": "5988a73a",
   "metadata": {},
   "source": [
    "### Evaluation du meilleur modèle\n"
   ]
  },
  {
   "cell_type": "code",
   "execution_count": 54,
   "id": "d0dc4f07",
   "metadata": {},
   "outputs": [],
   "source": [
    "#On stocke les variables \n",
    "X = df_final[['diagonal', 'height_left', 'height_right', 'margin_low', 'margin_up', 'length']]\n",
    "y = df_final['is_genuine']\n"
   ]
  },
  {
   "cell_type": "code",
   "execution_count": 55,
   "id": "280be165",
   "metadata": {},
   "outputs": [],
   "source": [
    "#Standardisation des données\n",
    "\n",
    "X_train, X_test, y_train, y_test = train_test_split(\n",
    "    X, \n",
    "    y, \n",
    "    test_size=0.20,\n",
    "    random_state=4)\n",
    "\n",
    "#On utilise le scaler sauvegardé\n",
    "\n",
    "X_train_std = pd.DataFrame(\n",
    "    scaler.fit_transform(X_train),\n",
    "    columns = X_train.columns)\n",
    "\n",
    "X_test_std = pd.DataFrame(\n",
    "    scaler.transform(X_test),\n",
    "    columns = X_test.columns)\n",
    "\n"
   ]
  },
  {
   "cell_type": "code",
   "execution_count": 56,
   "id": "7cd3b425",
   "metadata": {},
   "outputs": [],
   "source": [
    "#Import des librairies de modèles de classification supervisée\n",
    "from sklearn.ensemble import RandomForestClassifier\n",
    "from sklearn.svm import SVC\n",
    "\n",
    "# Liste des modèles de classification binaire candidats\n",
    "models = [RandomForestClassifier(), SVR(), LogisticRegression()]"
   ]
  },
  {
   "cell_type": "code",
   "execution_count": 57,
   "id": "16a38ff6",
   "metadata": {
    "scrolled": true
   },
   "outputs": [
    {
     "name": "stdout",
     "output_type": "stream",
     "text": [
      "Pour le modèle RandomForestClassifier l'Erreur Absolue Moyenne MAE est de 0.0\n",
      "Pour le modèle RandomForestClassifier l'accuracy est de 98.667 %\n",
      "Pour le modèle SVR l'Erreur Absolue Moyenne MAE est de 0.069\n",
      "Pour le modèle SVR l'accuracy est de 92.77 %\n",
      "Pour le modèle LogisticRegression l'Erreur Absolue Moyenne MAE est de 0.008\n",
      "Pour le modèle LogisticRegression l'accuracy est de 99.0 %\n"
     ]
    }
   ],
   "source": [
    "#Boucle for pour évaluer le MAE et la précision de chaque modèle\n",
    "\n",
    "for model in models:\n",
    "    model.fit(X_train_std, y_train)\n",
    "    predictions = model.predict(X_train_std)\n",
    "    mae = mean_absolute_error(y_train, predictions)\n",
    "    print(\"Pour le modèle\", type(model).__name__, \"l'Erreur Absolue Moyenne MAE est de\", round(mae, 3))\n",
    "    accuracy_scores = []\n",
    "    accuracy_scores.append(model.score(X_test_std, y_test))\n",
    "    print(\"Pour le modèle\", type(model).__name__, \"l'accuracy est de\", round(accuracy_scores[-1]*100, 3),'%')"
   ]
  },
  {
   "cell_type": "markdown",
   "id": "ef15d9d4",
   "metadata": {},
   "source": [
    "- En comparant plusieurs modèles de classification supervisée, avec une accuracy à 99% et une Erreur Absolue Moyenne très faible (0.7%), la Regression Logistique est toujours le modèle le plus performant\n",
    "- Il serait néanmoins judicieux de vérifier également le Random Forest classifier qui semble avoir une très bonne précision\n",
    " "
   ]
  },
  {
   "cell_type": "markdown",
   "id": "f994480a",
   "metadata": {},
   "source": [
    "# Application de l'agorithme de régression logistique sur billets_production.csv"
   ]
  },
  {
   "cell_type": "code",
   "execution_count": 58,
   "id": "78087ab2",
   "metadata": {},
   "outputs": [
    {
     "name": "stdout",
     "output_type": "stream",
     "text": [
      "   diagonal  height_left  height_right  margin_low  margin_up  length   id  \\\n",
      "0    171.76       104.01        103.54        5.21       3.30  111.42  A_1   \n",
      "1    171.87       104.17        104.13        6.00       3.31  112.09  A_2   \n",
      "2    172.00       104.58        104.29        4.99       3.39  111.57  A_3   \n",
      "3    172.49       104.55        104.34        4.44       3.03  113.20  A_4   \n",
      "4    171.65       103.63        103.56        3.77       3.16  113.33  A_5   \n",
      "\n",
      "   y_pred  \n",
      "0       0  \n",
      "1       0  \n",
      "2       0  \n",
      "3       1  \n",
      "4       1  \n"
     ]
    }
   ],
   "source": [
    "# Chargement du fichier test\n",
    "df_test = pd.read_csv(r'C:\\Users\\franc\\Desktop\\DATA\\PROJET 10 Détectez des faux billets avec R ou Python\\livrable\\billets_production.csv')\n",
    "\n",
    "# Séparation des variables prédictives (X_test) de la variable cible (y_test)\n",
    "X_test = df_test.drop('id', axis=1)\n",
    "y_test = df_test['id']\n",
    "\n",
    "# Standardisation des données de test avec le scaler sauvegardé\n",
    "X_test_std = scaler.fit_transform(X_test)\n",
    "\n",
    "# Chargement du modèle de regression logistique entraîné \n",
    "#(facultatif si c'est sur le même notebook que le modèle sauvegardé)\n",
    "with open('modele_regression_logistique.pkl', 'rb') as f:\n",
    "    model = pickle.load(f)\n",
    "\n",
    "# Prédictions sur les données de test standardisées\n",
    "y_pred = model.predict(X_test_std)\n",
    "\n",
    "# Ajout d'une colonne prédiction au DataFrame des données de test\n",
    "df_test['y_pred'] = y_pred\n",
    "\n",
    "# Affichage des prédictions\n",
    "print(df_test)"
   ]
  },
  {
   "cell_type": "code",
   "execution_count": 59,
   "id": "83c03243",
   "metadata": {},
   "outputs": [],
   "source": [
    "# Ajout d'une colonne \"prediction\" au DataFrame des données de test\n",
    "df_test['prediction'] = pd.Series(y_pred).map({1: 'Vrai billet', 0: 'Faux billet'})"
   ]
  },
  {
   "cell_type": "code",
   "execution_count": 60,
   "id": "122bae7e",
   "metadata": {},
   "outputs": [
    {
     "data": {
      "text/html": [
       "<div>\n",
       "<style scoped>\n",
       "    .dataframe tbody tr th:only-of-type {\n",
       "        vertical-align: middle;\n",
       "    }\n",
       "\n",
       "    .dataframe tbody tr th {\n",
       "        vertical-align: top;\n",
       "    }\n",
       "\n",
       "    .dataframe thead th {\n",
       "        text-align: right;\n",
       "    }\n",
       "</style>\n",
       "<table border=\"1\" class=\"dataframe\">\n",
       "  <thead>\n",
       "    <tr style=\"text-align: right;\">\n",
       "      <th></th>\n",
       "      <th>diagonal</th>\n",
       "      <th>height_left</th>\n",
       "      <th>height_right</th>\n",
       "      <th>margin_low</th>\n",
       "      <th>margin_up</th>\n",
       "      <th>length</th>\n",
       "      <th>id</th>\n",
       "      <th>y_pred</th>\n",
       "      <th>prediction</th>\n",
       "    </tr>\n",
       "  </thead>\n",
       "  <tbody>\n",
       "    <tr>\n",
       "      <th>0</th>\n",
       "      <td>171.76</td>\n",
       "      <td>104.01</td>\n",
       "      <td>103.54</td>\n",
       "      <td>5.21</td>\n",
       "      <td>3.30</td>\n",
       "      <td>111.42</td>\n",
       "      <td>A_1</td>\n",
       "      <td>0</td>\n",
       "      <td>Faux billet</td>\n",
       "    </tr>\n",
       "    <tr>\n",
       "      <th>1</th>\n",
       "      <td>171.87</td>\n",
       "      <td>104.17</td>\n",
       "      <td>104.13</td>\n",
       "      <td>6.00</td>\n",
       "      <td>3.31</td>\n",
       "      <td>112.09</td>\n",
       "      <td>A_2</td>\n",
       "      <td>0</td>\n",
       "      <td>Faux billet</td>\n",
       "    </tr>\n",
       "    <tr>\n",
       "      <th>2</th>\n",
       "      <td>172.00</td>\n",
       "      <td>104.58</td>\n",
       "      <td>104.29</td>\n",
       "      <td>4.99</td>\n",
       "      <td>3.39</td>\n",
       "      <td>111.57</td>\n",
       "      <td>A_3</td>\n",
       "      <td>0</td>\n",
       "      <td>Faux billet</td>\n",
       "    </tr>\n",
       "    <tr>\n",
       "      <th>3</th>\n",
       "      <td>172.49</td>\n",
       "      <td>104.55</td>\n",
       "      <td>104.34</td>\n",
       "      <td>4.44</td>\n",
       "      <td>3.03</td>\n",
       "      <td>113.20</td>\n",
       "      <td>A_4</td>\n",
       "      <td>1</td>\n",
       "      <td>Vrai billet</td>\n",
       "    </tr>\n",
       "    <tr>\n",
       "      <th>4</th>\n",
       "      <td>171.65</td>\n",
       "      <td>103.63</td>\n",
       "      <td>103.56</td>\n",
       "      <td>3.77</td>\n",
       "      <td>3.16</td>\n",
       "      <td>113.33</td>\n",
       "      <td>A_5</td>\n",
       "      <td>1</td>\n",
       "      <td>Vrai billet</td>\n",
       "    </tr>\n",
       "  </tbody>\n",
       "</table>\n",
       "</div>"
      ],
      "text/plain": [
       "   diagonal  height_left  height_right  margin_low  margin_up  length   id  \\\n",
       "0    171.76       104.01        103.54        5.21       3.30  111.42  A_1   \n",
       "1    171.87       104.17        104.13        6.00       3.31  112.09  A_2   \n",
       "2    172.00       104.58        104.29        4.99       3.39  111.57  A_3   \n",
       "3    172.49       104.55        104.34        4.44       3.03  113.20  A_4   \n",
       "4    171.65       103.63        103.56        3.77       3.16  113.33  A_5   \n",
       "\n",
       "   y_pred   prediction  \n",
       "0       0  Faux billet  \n",
       "1       0  Faux billet  \n",
       "2       0  Faux billet  \n",
       "3       1  Vrai billet  \n",
       "4       1  Vrai billet  "
      ]
     },
     "execution_count": 60,
     "metadata": {},
     "output_type": "execute_result"
    }
   ],
   "source": [
    "#Affichage de df_test avec les prédictions\n",
    "df_test"
   ]
  },
  {
   "cell_type": "code",
   "execution_count": 61,
   "id": "d09f52d2",
   "metadata": {
    "scrolled": true
   },
   "outputs": [
    {
     "data": {
      "text/plain": [
       "Faux billet    3\n",
       "Vrai billet    2\n",
       "Name: prediction, dtype: int64"
      ]
     },
     "execution_count": 61,
     "metadata": {},
     "output_type": "execute_result"
    }
   ],
   "source": [
    "#Nombre de vrai/ faux billets\n",
    "df_test['prediction'].value_counts()"
   ]
  },
  {
   "cell_type": "code",
   "execution_count": null,
   "id": "29d6f9de",
   "metadata": {},
   "outputs": [],
   "source": []
  },
  {
   "cell_type": "markdown",
   "id": "1335d01e",
   "metadata": {},
   "source": [
    "# Application de l'agorithme de regression logistique sur de nouvelles données "
   ]
  },
  {
   "cell_type": "code",
   "execution_count": 62,
   "id": "980ac47b",
   "metadata": {},
   "outputs": [
    {
     "name": "stdout",
     "output_type": "stream",
     "text": [
      "   diagonal  height_left  height_right  margin_low  margin_up  length   id  \\\n",
      "0    172.09       103.95        103.73        4.39       3.09  113.19  B_1   \n",
      "1    171.52       104.17        104.03        5.27       3.16  111.82  B_2   \n",
      "2    171.78       103.80        103.75        3.81       3.24  113.39  B_3   \n",
      "3    172.02       104.08        103.99        5.57       3.30  111.10  B_4   \n",
      "4    171.79       104.34        104.37        5.00       3.07  111.87  B_5   \n",
      "\n",
      "   y_pred  \n",
      "0       1  \n",
      "1       0  \n",
      "2       1  \n",
      "3       0  \n",
      "4       0  \n"
     ]
    }
   ],
   "source": [
    "# Chargement du fichier test\n",
    "df_test = pd.read_csv(r'C:\\Users\\franc\\Desktop\\DATA\\PROJET 10 Détectez des faux billets avec R ou Python\\livrable\\billets_test.csv')\n",
    "\n",
    "# Séparation des variables prédictives (X_test) de la variable cible (y_test)\n",
    "X_test = df_test.drop('id', axis=1)\n",
    "y_test = df_test['id']\n",
    "\n",
    "# Standardisation des données de test avec le scaler sauvegardé\n",
    "X_test_std = scaler.fit_transform(X_test)\n",
    "\n",
    "# Chargement du modèle de regression logistique entraîné \n",
    "#(facultatif si c'est sur le même notebook que le modèle sauvegardé)\n",
    "with open('modele_regression_logistique.pkl', 'rb') as f:\n",
    "    model = pickle.load(f)\n",
    "\n",
    "# Prédictions sur les données de test standardisées\n",
    "y_pred = model.predict(X_test_std)\n",
    "\n",
    "# Ajout d'une colonne prédiction au DataFrame des données de test\n",
    "df_test['y_pred'] = y_pred\n",
    "\n",
    "# Affichage des prédictions\n",
    "print(df_test)"
   ]
  },
  {
   "cell_type": "code",
   "execution_count": 63,
   "id": "b7714718",
   "metadata": {},
   "outputs": [],
   "source": [
    "# Ajout d'une colonne \"prediction\" au DataFrame des données de test\n",
    "df_test['prediction'] = pd.Series(y_pred).map({1: 'Vrai billet', 0: 'Faux billet'})"
   ]
  },
  {
   "cell_type": "code",
   "execution_count": 64,
   "id": "215408ef",
   "metadata": {},
   "outputs": [
    {
     "data": {
      "text/html": [
       "<div>\n",
       "<style scoped>\n",
       "    .dataframe tbody tr th:only-of-type {\n",
       "        vertical-align: middle;\n",
       "    }\n",
       "\n",
       "    .dataframe tbody tr th {\n",
       "        vertical-align: top;\n",
       "    }\n",
       "\n",
       "    .dataframe thead th {\n",
       "        text-align: right;\n",
       "    }\n",
       "</style>\n",
       "<table border=\"1\" class=\"dataframe\">\n",
       "  <thead>\n",
       "    <tr style=\"text-align: right;\">\n",
       "      <th></th>\n",
       "      <th>diagonal</th>\n",
       "      <th>height_left</th>\n",
       "      <th>height_right</th>\n",
       "      <th>margin_low</th>\n",
       "      <th>margin_up</th>\n",
       "      <th>length</th>\n",
       "      <th>id</th>\n",
       "      <th>y_pred</th>\n",
       "      <th>prediction</th>\n",
       "    </tr>\n",
       "  </thead>\n",
       "  <tbody>\n",
       "    <tr>\n",
       "      <th>0</th>\n",
       "      <td>172.09</td>\n",
       "      <td>103.95</td>\n",
       "      <td>103.73</td>\n",
       "      <td>4.39</td>\n",
       "      <td>3.09</td>\n",
       "      <td>113.19</td>\n",
       "      <td>B_1</td>\n",
       "      <td>1</td>\n",
       "      <td>Vrai billet</td>\n",
       "    </tr>\n",
       "    <tr>\n",
       "      <th>1</th>\n",
       "      <td>171.52</td>\n",
       "      <td>104.17</td>\n",
       "      <td>104.03</td>\n",
       "      <td>5.27</td>\n",
       "      <td>3.16</td>\n",
       "      <td>111.82</td>\n",
       "      <td>B_2</td>\n",
       "      <td>0</td>\n",
       "      <td>Faux billet</td>\n",
       "    </tr>\n",
       "    <tr>\n",
       "      <th>2</th>\n",
       "      <td>171.78</td>\n",
       "      <td>103.80</td>\n",
       "      <td>103.75</td>\n",
       "      <td>3.81</td>\n",
       "      <td>3.24</td>\n",
       "      <td>113.39</td>\n",
       "      <td>B_3</td>\n",
       "      <td>1</td>\n",
       "      <td>Vrai billet</td>\n",
       "    </tr>\n",
       "    <tr>\n",
       "      <th>3</th>\n",
       "      <td>172.02</td>\n",
       "      <td>104.08</td>\n",
       "      <td>103.99</td>\n",
       "      <td>5.57</td>\n",
       "      <td>3.30</td>\n",
       "      <td>111.10</td>\n",
       "      <td>B_4</td>\n",
       "      <td>0</td>\n",
       "      <td>Faux billet</td>\n",
       "    </tr>\n",
       "    <tr>\n",
       "      <th>4</th>\n",
       "      <td>171.79</td>\n",
       "      <td>104.34</td>\n",
       "      <td>104.37</td>\n",
       "      <td>5.00</td>\n",
       "      <td>3.07</td>\n",
       "      <td>111.87</td>\n",
       "      <td>B_5</td>\n",
       "      <td>0</td>\n",
       "      <td>Faux billet</td>\n",
       "    </tr>\n",
       "  </tbody>\n",
       "</table>\n",
       "</div>"
      ],
      "text/plain": [
       "   diagonal  height_left  height_right  margin_low  margin_up  length   id  \\\n",
       "0    172.09       103.95        103.73        4.39       3.09  113.19  B_1   \n",
       "1    171.52       104.17        104.03        5.27       3.16  111.82  B_2   \n",
       "2    171.78       103.80        103.75        3.81       3.24  113.39  B_3   \n",
       "3    172.02       104.08        103.99        5.57       3.30  111.10  B_4   \n",
       "4    171.79       104.34        104.37        5.00       3.07  111.87  B_5   \n",
       "\n",
       "   y_pred   prediction  \n",
       "0       1  Vrai billet  \n",
       "1       0  Faux billet  \n",
       "2       1  Vrai billet  \n",
       "3       0  Faux billet  \n",
       "4       0  Faux billet  "
      ]
     },
     "execution_count": 64,
     "metadata": {},
     "output_type": "execute_result"
    }
   ],
   "source": [
    "#Affichage de df_test avec les prédictions\n",
    "df_test"
   ]
  },
  {
   "cell_type": "code",
   "execution_count": 65,
   "id": "cabeca73",
   "metadata": {},
   "outputs": [
    {
     "data": {
      "text/plain": [
       "Faux billet    3\n",
       "Vrai billet    2\n",
       "Name: prediction, dtype: int64"
      ]
     },
     "execution_count": 65,
     "metadata": {},
     "output_type": "execute_result"
    }
   ],
   "source": [
    "#Nombre de vrais/ faux billets\n",
    "df_test['prediction'].value_counts()"
   ]
  },
  {
   "cell_type": "code",
   "execution_count": null,
   "id": "cc6b7672",
   "metadata": {},
   "outputs": [],
   "source": []
  },
  {
   "cell_type": "code",
   "execution_count": null,
   "id": "d35184f5",
   "metadata": {},
   "outputs": [],
   "source": []
  }
 ],
 "metadata": {
  "kernelspec": {
   "display_name": "Python 3 (ipykernel)",
   "language": "python",
   "name": "python3"
  },
  "language_info": {
   "codemirror_mode": {
    "name": "ipython",
    "version": 3
   },
   "file_extension": ".py",
   "mimetype": "text/x-python",
   "name": "python",
   "nbconvert_exporter": "python",
   "pygments_lexer": "ipython3",
   "version": "3.9.12"
  }
 },
 "nbformat": 4,
 "nbformat_minor": 5
}
